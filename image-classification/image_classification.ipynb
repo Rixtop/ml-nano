{
 "cells": [
  {
   "cell_type": "markdown",
   "metadata": {
    "collapsed": true
   },
   "source": [
    "# Image Classification\n",
    "In this project, you'll classify images from the [CIFAR-10 dataset](https://www.cs.toronto.edu/~kriz/cifar.html).  The dataset consists of airplanes, dogs, cats, and other objects. You'll preprocess the images, then train a convolutional neural network on all the samples. The images need to be normalized and the labels need to be one-hot encoded.  You'll get to apply what you learned and build a convolutional, max pooling, dropout, and fully connected layers.  At the end, you'll get to see your neural network's predictions on the sample images.\n",
    "## Get the Data\n",
    "Run the following cell to download the [CIFAR-10 dataset for python](https://www.cs.toronto.edu/~kriz/cifar-10-python.tar.gz)."
   ]
  },
  {
   "cell_type": "code",
   "execution_count": 1,
   "metadata": {},
   "outputs": [
    {
     "name": "stdout",
     "output_type": "stream",
     "text": [
      "All files found!\n"
     ]
    }
   ],
   "source": [
    "\"\"\"\n",
    "DON'T MODIFY ANYTHING IN THIS CELL THAT IS BELOW THIS LINE\n",
    "\"\"\"\n",
    "from urllib.request import urlretrieve\n",
    "from os.path import isfile, isdir\n",
    "from tqdm import tqdm\n",
    "import problem_unittests as tests\n",
    "import tarfile\n",
    "\n",
    "cifar10_dataset_folder_path = 'cifar-10-batches-py'\n",
    "\n",
    "class DLProgress(tqdm):\n",
    "    last_block = 0\n",
    "\n",
    "    def hook(self, block_num=1, block_size=1, total_size=None):\n",
    "        self.total = total_size\n",
    "        self.update((block_num - self.last_block) * block_size)\n",
    "        self.last_block = block_num\n",
    "\n",
    "if not isfile('cifar-10-python.tar.gz'):\n",
    "    with DLProgress(unit='B', unit_scale=True, miniters=1, desc='CIFAR-10 Dataset') as pbar:\n",
    "        urlretrieve(\n",
    "            'https://www.cs.toronto.edu/~kriz/cifar-10-python.tar.gz',\n",
    "            'cifar-10-python.tar.gz',\n",
    "            pbar.hook)\n",
    "\n",
    "if not isdir(cifar10_dataset_folder_path):\n",
    "    with tarfile.open('cifar-10-python.tar.gz') as tar:\n",
    "        tar.extractall()\n",
    "        tar.close()\n",
    "\n",
    "\n",
    "tests.test_folder_path(cifar10_dataset_folder_path)"
   ]
  },
  {
   "cell_type": "markdown",
   "metadata": {},
   "source": [
    "## Explore the Data\n",
    "The dataset is broken into batches to prevent your machine from running out of memory.  The CIFAR-10 dataset consists of 5 batches, named `data_batch_1`, `data_batch_2`, etc.. Each batch contains the labels and images that are one of the following:\n",
    "* airplane\n",
    "* automobile\n",
    "* bird\n",
    "* cat\n",
    "* deer\n",
    "* dog\n",
    "* frog\n",
    "* horse\n",
    "* ship\n",
    "* truck\n",
    "\n",
    "Understanding a dataset is part of making predictions on the data.  Play around with the code cell below by changing the `batch_id` and `sample_id`. The `batch_id` is the id for a batch (1-5). The `sample_id` is the id for a image and label pair in the batch.\n",
    "\n",
    "Ask yourself \"What are all possible labels?\", \"What is the range of values for the image data?\", \"Are the labels in order or random?\".  Answers to questions like these will help you preprocess the data and end up with better predictions."
   ]
  },
  {
   "cell_type": "code",
   "execution_count": 2,
   "metadata": {},
   "outputs": [
    {
     "name": "stdout",
     "output_type": "stream",
     "text": [
      "\n",
      "Stats of batch 1:\n",
      "Samples: 10000\n",
      "Label Counts: {0: 1005, 1: 974, 2: 1032, 3: 1016, 4: 999, 5: 937, 6: 1030, 7: 1001, 8: 1025, 9: 981}\n",
      "First 20 Labels: [6, 9, 9, 4, 1, 1, 2, 7, 8, 3, 4, 7, 7, 2, 9, 9, 9, 3, 2, 6]\n",
      "\n",
      "Example of Image 6:\n",
      "Image - Min Value: 7 Max Value: 249\n",
      "Image - Shape: (32, 32, 3)\n",
      "Label - Label Id: 2 Name: bird\n"
     ]
    },
    {
     "data": {
      "image/png": "[encoded data removed]",
      "text/plain": [
       "<matplotlib.figure.Figure at 0x11721b7b8>"
      ]
     },
     "metadata": {
      "image/png": {
       "height": 250,
       "width": 253
      }
     },
     "output_type": "display_data"
    }
   ],
   "source": [
    "%matplotlib inline\n",
    "%config InlineBackend.figure_format = 'retina'\n",
    "\n",
    "import helper\n",
    "import numpy as np\n",
    "\n",
    "# Explore the dataset\n",
    "batch_id = 1\n",
    "sample_id = 6\n",
    "helper.display_stats(cifar10_dataset_folder_path, batch_id, sample_id)"
   ]
  },
  {
   "cell_type": "markdown",
   "metadata": {},
   "source": [
    "## Implement Preprocess Functions\n",
    "### Normalize\n",
    "In the cell below, implement the `normalize` function to take in image data, `x`, and return it as a normalized Numpy array. The values should be in the range of 0 to 1, inclusive.  The return object should be the same shape as `x`."
   ]
  },
  {
   "cell_type": "code",
   "execution_count": 3,
   "metadata": {},
   "outputs": [
    {
     "name": "stdout",
     "output_type": "stream",
     "text": [
      "Tests Passed\n"
     ]
    }
   ],
   "source": [
    "def normalize(x):\n",
    "    return x/255\n",
    "\n",
    "\n",
    "\"\"\"\n",
    "DON'T MODIFY ANYTHING IN THIS CELL THAT IS BELOW THIS LINE\n",
    "\"\"\"\n",
    "tests.test_normalize(normalize)"
   ]
  },
  {
   "cell_type": "markdown",
   "metadata": {},
   "source": [
    "### One-hot encode\n",
    "Just like the previous code cell, you'll be implementing a function for preprocessing.  This time, you'll implement the `one_hot_encode` function. The input, `x`, are a list of labels.  Implement the function to return the list of labels as One-Hot encoded Numpy array.  The possible values for labels are 0 to 9. The one-hot encoding function should return the same encoding for each value between each call to `one_hot_encode`.  Make sure to save the map of encodings outside the function.\n",
    "\n",
    "**Hint:**\n",
    "\n",
    "Look into LabelBinarizer in the preprocessing module of sklearn."
   ]
  },
  {
   "cell_type": "code",
   "execution_count": 4,
   "metadata": {},
   "outputs": [
    {
     "name": "stdout",
     "output_type": "stream",
     "text": [
      "Tests Passed\n"
     ]
    }
   ],
   "source": [
    "from sklearn.preprocessing import LabelBinarizer\n",
    "\n",
    "lb = LabelBinarizer()\n",
    "classes = list(range(10))\n",
    "lb.fit(classes)\n",
    "\n",
    "def one_hot_encode(x):\n",
    "    \"\"\"\n",
    "    One hot encode a list of sample labels. Return a one-hot encoded vector for each label.\n",
    "    : x: List of sample Labels\n",
    "    : return: Numpy array of one-hot encoded labels\n",
    "    \"\"\"\n",
    "    return lb.transform(x)\n",
    "\n",
    "\n",
    "\"\"\"\n",
    "DON'T MODIFY ANYTHING IN THIS CELL THAT IS BELOW THIS LINE\n",
    "\"\"\"\n",
    "tests.test_one_hot_encode(one_hot_encode)"
   ]
  },
  {
   "cell_type": "markdown",
   "metadata": {},
   "source": [
    "### Randomize Data\n",
    "As you saw from exploring the data above, the order of the samples are randomized.  It doesn't hurt to randomize it again, but you don't need to for this dataset."
   ]
  },
  {
   "cell_type": "markdown",
   "metadata": {},
   "source": [
    "## Preprocess all the data and save it\n",
    "Running the code cell below will preprocess all the CIFAR-10 data and save it to file. The code below also uses 10% of the training data for validation."
   ]
  },
  {
   "cell_type": "code",
   "execution_count": 5,
   "metadata": {
    "collapsed": true
   },
   "outputs": [],
   "source": [
    "\"\"\"\n",
    "DON'T MODIFY ANYTHING IN THIS CELL\n",
    "\"\"\"\n",
    "# Preprocess Training, Validation, and Testing Data\n",
    "helper.preprocess_and_save_data(cifar10_dataset_folder_path, normalize, one_hot_encode)"
   ]
  },
  {
   "cell_type": "markdown",
   "metadata": {},
   "source": [
    "# Check Point\n",
    "This is your first checkpoint.  If you ever decide to come back to this notebook or have to restart the notebook, you can start from here.  The preprocessed data has been saved to disk."
   ]
  },
  {
   "cell_type": "code",
   "execution_count": 6,
   "metadata": {
    "collapsed": true
   },
   "outputs": [],
   "source": [
    "\"\"\"\n",
    "DON'T MODIFY ANYTHING IN THIS CELL\n",
    "\"\"\"\n",
    "import pickle\n",
    "import problem_unittests as tests\n",
    "import helper\n",
    "\n",
    "# Load the Preprocessed Validation data\n",
    "valid_features, valid_labels = pickle.load(open('preprocess_validation.p', mode='rb'))"
   ]
  },
  {
   "cell_type": "markdown",
   "metadata": {},
   "source": [
    "## Build the network\n",
    "For the neural network, you'll build each layer into a function.  Most of the code you've seen has been outside of functions. To test your code more thoroughly, we require that you put each layer in a function.  This allows us to give you better feedback and test for simple mistakes using our unittests before you submit your project.\n",
    "\n",
    ">**Note:** If you're finding it hard to dedicate enough time for this course each week, we've provided a small shortcut to this part of the project. In the next couple of problems, you'll have the option to use classes from the [TensorFlow Layers](https://www.tensorflow.org/api_docs/python/tf/layers) or [TensorFlow Layers (contrib)](https://www.tensorflow.org/api_guides/python/contrib.layers) packages to build each layer, except the layers you build in the \"Convolutional and Max Pooling Layer\" section.  TF Layers is similar to Keras's and TFLearn's abstraction to layers, so it's easy to pickup.\n",
    "\n",
    ">However, if you would like to get the most out of this course, try to solve all the problems _without_ using anything from the TF Layers packages. You **can** still use classes from other packages that happen to have the same name as ones you find in TF Layers! For example, instead of using the TF Layers version of the `conv2d` class, [tf.layers.conv2d](https://www.tensorflow.org/api_docs/python/tf/layers/conv2d), you would want to use the TF Neural Network version of `conv2d`, [tf.nn.conv2d](https://www.tensorflow.org/api_docs/python/tf/nn/conv2d). \n",
    "\n",
    "Let's begin!\n",
    "\n",
    "### Input\n",
    "The neural network needs to read the image data, one-hot encoded labels, and dropout keep probability. Implement the following functions\n",
    "* Implement `neural_net_image_input`\n",
    " * Return a [TF Placeholder](https://www.tensorflow.org/api_docs/python/tf/placeholder)\n",
    " * Set the shape using `image_shape` with batch size set to `None`.\n",
    " * Name the TensorFlow placeholder \"x\" using the TensorFlow `name` parameter in the [TF Placeholder](https://www.tensorflow.org/api_docs/python/tf/placeholder).\n",
    "* Implement `neural_net_label_input`\n",
    " * Return a [TF Placeholder](https://www.tensorflow.org/api_docs/python/tf/placeholder)\n",
    " * Set the shape using `n_classes` with batch size set to `None`.\n",
    " * Name the TensorFlow placeholder \"y\" using the TensorFlow `name` parameter in the [TF Placeholder](https://www.tensorflow.org/api_docs/python/tf/placeholder).\n",
    "* Implement `neural_net_keep_prob_input`\n",
    " * Return a [TF Placeholder](https://www.tensorflow.org/api_docs/python/tf/placeholder) for dropout keep probability.\n",
    " * Name the TensorFlow placeholder \"keep_prob\" using the TensorFlow `name` parameter in the [TF Placeholder](https://www.tensorflow.org/api_docs/python/tf/placeholder).\n",
    "\n",
    "These names will be used at the end of the project to load your saved model.\n",
    "\n",
    "Note: `None` for shapes in TensorFlow allow for a dynamic size."
   ]
  },
  {
   "cell_type": "code",
   "execution_count": 7,
   "metadata": {},
   "outputs": [
    {
     "name": "stdout",
     "output_type": "stream",
     "text": [
      "Image Input Tests Passed.\n",
      "Label Input Tests Passed.\n",
      "Keep Prob Tests Passed.\n"
     ]
    }
   ],
   "source": [
    "import tensorflow as tf\n",
    "\n",
    "def neural_net_image_input(image_shape):\n",
    "    \"\"\"\n",
    "    Return a Tensor for a batch of image input\n",
    "    : image_shape: Shape of the images\n",
    "    : return: Tensor for image input.\n",
    "    \"\"\"\n",
    "    # TODO: Implement Function\n",
    "    return tf.placeholder(tf.float32, [None, image_shape[0], image_shape[1], image_shape[2]], name='x')\n",
    "\n",
    "\n",
    "def neural_net_label_input(n_classes):\n",
    "    \"\"\"\n",
    "    Return a Tensor for a batch of label input\n",
    "    : n_classes: Number of classes\n",
    "    : return: Tensor for label input.\n",
    "    \"\"\"\n",
    "    # TODO: Implement Function\n",
    "    return tf.placeholder(tf.float32, [None, n_classes], name='y')\n",
    "\n",
    "\n",
    "def neural_net_keep_prob_input():\n",
    "    \"\"\"\n",
    "    Return a Tensor for keep probability\n",
    "    : return: Tensor for keep probability.\n",
    "    \"\"\"\n",
    "    # TODO: Implement Function\n",
    "    return tf.placeholder(tf.float32, name='keep_prob')\n",
    "\n",
    "\n",
    "\"\"\"\n",
    "DON'T MODIFY ANYTHING IN THIS CELL THAT IS BELOW THIS LINE\n",
    "\"\"\"\n",
    "tf.reset_default_graph()\n",
    "tests.test_nn_image_inputs(neural_net_image_input)\n",
    "tests.test_nn_label_inputs(neural_net_label_input)\n",
    "tests.test_nn_keep_prob_inputs(neural_net_keep_prob_input)"
   ]
  },
  {
   "cell_type": "markdown",
   "metadata": {},
   "source": [
    "### Convolution and Max Pooling Layer\n",
    "Convolution layers have a lot of success with images. For this code cell, you should implement the function `conv2d_maxpool` to apply convolution then max pooling:\n",
    "* Create the weight and bias using `conv_ksize`, `conv_num_outputs` and the shape of `x_tensor`.\n",
    "* Apply a convolution to `x_tensor` using weight and `conv_strides`.\n",
    " * We recommend you use same padding, but you're welcome to use any padding.\n",
    "* Add bias\n",
    "* Add a nonlinear activation to the convolution.\n",
    "* Apply Max Pooling using `pool_ksize` and `pool_strides`.\n",
    " * We recommend you use same padding, but you're welcome to use any padding.\n",
    "\n",
    "**Note:** You **can't** use [TensorFlow Layers](https://www.tensorflow.org/api_docs/python/tf/layers) or [TensorFlow Layers (contrib)](https://www.tensorflow.org/api_guides/python/contrib.layers) for **this** layer, but you can still use TensorFlow's [Neural Network](https://www.tensorflow.org/api_docs/python/tf/nn) package. You may still use the shortcut option for all the **other** layers.\n",
    "\n",
    "** Hint: **\n",
    "\n",
    "When unpacking values as an argument in Python, look into the [unpacking](https://docs.python.org/3/tutorial/controlflow.html#unpacking-argument-lists) operator. "
   ]
  },
  {
   "cell_type": "code",
   "execution_count": 8,
   "metadata": {},
   "outputs": [
    {
     "name": "stdout",
     "output_type": "stream",
     "text": [
      "Tests Passed\n"
     ]
    }
   ],
   "source": [
    "def conv2d_maxpool(x_tensor, conv_num_outputs, conv_ksize, conv_strides, pool_ksize, pool_strides):\n",
    "    \"\"\"\n",
    "    Apply convolution then max pooling to x_tensor\n",
    "    :param x_tensor: TensorFlow Tensor\n",
    "    :param conv_num_outputs: Number of outputs for the convolutional layer\n",
    "    :param conv_ksize: kernal size 2-D Tuple for the convolutional layer\n",
    "    :param conv_strides: Stride 2-D Tuple for convolution\n",
    "    :param pool_ksize: kernal size 2-D Tuple for pool\n",
    "    :param pool_strides: Stride 2-D Tuple for pool\n",
    "    : return: A tensor that represents convolution and max pooling of x_tensor\n",
    "    \"\"\"\n",
    "    # TODO: Implement Function\n",
    "    W = tf.Variable(tf.random_normal([conv_ksize[0], conv_ksize[1], x_tensor.get_shape().as_list()[-1], conv_num_outputs], mean=0.0, stddev=0.1))\n",
    "    bias = tf.Variable(tf.zeros(conv_num_outputs, dtype=tf.float32))\n",
    "    strides = [1, conv_strides[0], conv_strides[1], 1]\n",
    "    conv = tf.nn.conv2d(x_tensor, W, strides=strides, padding='SAME')\n",
    "    conv = tf.nn.bias_add(conv, bias)\n",
    "    conv = tf.nn.relu(conv)\n",
    "    conv = tf.nn.max_pool(conv, ksize=[1, pool_ksize[0], pool_ksize[1], 1], strides=[1, pool_strides[0], pool_strides[1], 1], padding='SAME')\n",
    "    return conv\n",
    "\n",
    "\n",
    "\"\"\"\n",
    "DON'T MODIFY ANYTHING IN THIS CELL THAT IS BELOW THIS LINE\n",
    "\"\"\"\n",
    "tests.test_con_pool(conv2d_maxpool)"
   ]
  },
  {
   "cell_type": "markdown",
   "metadata": {},
   "source": [
    "### Flatten Layer\n",
    "Implement the `flatten` function to change the dimension of `x_tensor` from a 4-D tensor to a 2-D tensor.  The output should be the shape (*Batch Size*, *Flattened Image Size*). Shortcut option: you can use classes from the [TensorFlow Layers](https://www.tensorflow.org/api_docs/python/tf/layers) or [TensorFlow Layers (contrib)](https://www.tensorflow.org/api_guides/python/contrib.layers) packages for this layer. For more of a challenge, only use other TensorFlow packages."
   ]
  },
  {
   "cell_type": "code",
   "execution_count": 9,
   "metadata": {},
   "outputs": [
    {
     "name": "stdout",
     "output_type": "stream",
     "text": [
      "Tests Passed\n"
     ]
    }
   ],
   "source": [
    "def flatten(x_tensor):\n",
    "    \"\"\"\n",
    "    Flatten x_tensor to (Batch Size, Flattened Image Size)\n",
    "    : x_tensor: A tensor of size (Batch Size, ...), where ... are the image dimensions.\n",
    "    : return: A tensor of size (Batch Size, Flattened Image Size).\n",
    "    \"\"\"\n",
    "    # TODO: Implement Function\n",
    "    num_elements = np.array(x_tensor.get_shape().as_list()[1:]).prod()\n",
    "    return tf.reshape(x_tensor, [-1, num_elements])\n",
    "\n",
    "\n",
    "\"\"\"\n",
    "DON'T MODIFY ANYTHING IN THIS CELL THAT IS BELOW THIS LINE\n",
    "\"\"\"\n",
    "tests.test_flatten(flatten)"
   ]
  },
  {
   "cell_type": "markdown",
   "metadata": {},
   "source": [
    "### Fully-Connected Layer\n",
    "Implement the `fully_conn` function to apply a fully connected layer to `x_tensor` with the shape (*Batch Size*, *num_outputs*). Shortcut option: you can use classes from the [TensorFlow Layers](https://www.tensorflow.org/api_docs/python/tf/layers) or [TensorFlow Layers (contrib)](https://www.tensorflow.org/api_guides/python/contrib.layers) packages for this layer. For more of a challenge, only use other TensorFlow packages."
   ]
  },
  {
   "cell_type": "code",
   "execution_count": 10,
   "metadata": {},
   "outputs": [
    {
     "name": "stdout",
     "output_type": "stream",
     "text": [
      "Tests Passed\n"
     ]
    }
   ],
   "source": [
    "def fully_conn(x_tensor, num_outputs):\n",
    "    \"\"\"\n",
    "    Apply a fully connected layer to x_tensor using weight and bias\n",
    "    : x_tensor: A 2-D tensor where the first dimension is batch size.\n",
    "    : num_outputs: The number of output that the new tensor should be.\n",
    "    : return: A 2-D tensor where the second dimension is num_outputs.\n",
    "    \"\"\"\n",
    "    # TODO: Implement Function\n",
    "    num_elements = np.array(x_tensor.get_shape().as_list()[1:]).prod()\n",
    "    W = tf.Variable(tf.random_normal([num_elements, num_outputs], mean=0.0, stddev=0.1))\n",
    "    bias = tf.Variable(tf.zeros([num_outputs], dtype=tf.float32))\n",
    "    lay = tf.add(tf.matmul(x_tensor, W), bias)\n",
    "    lay = tf.nn.relu(lay)\n",
    "    return lay\n",
    "\n",
    "\n",
    "\"\"\"\n",
    "DON'T MODIFY ANYTHING IN THIS CELL THAT IS BELOW THIS LINE\n",
    "\"\"\"\n",
    "tests.test_fully_conn(fully_conn)"
   ]
  },
  {
   "cell_type": "markdown",
   "metadata": {},
   "source": [
    "### Output Layer\n",
    "Implement the `output` function to apply a fully connected layer to `x_tensor` with the shape (*Batch Size*, *num_outputs*). Shortcut option: you can use classes from the [TensorFlow Layers](https://www.tensorflow.org/api_docs/python/tf/layers) or [TensorFlow Layers (contrib)](https://www.tensorflow.org/api_guides/python/contrib.layers) packages for this layer. For more of a challenge, only use other TensorFlow packages.\n",
    "\n",
    "**Note:** Activation, softmax, or cross entropy should **not** be applied to this."
   ]
  },
  {
   "cell_type": "code",
   "execution_count": 16,
   "metadata": {},
   "outputs": [
    {
     "name": "stdout",
     "output_type": "stream",
     "text": [
      "Tests Passed\n"
     ]
    }
   ],
   "source": [
    "def output(x_tensor, num_outputs):\n",
    "    \"\"\"\n",
    "    Apply a output layer to x_tensor using weight and bias\n",
    "    : x_tensor: A 2-D tensor where the first dimension is batch size.\n",
    "    : num_outputs: The number of output that the new tensor should be.\n",
    "    : return: A 2-D tensor where the second dimension is num_outputs.\n",
    "    \"\"\"\n",
    "    # TODO: Implement Function\n",
    "    num_elements = np.array(x_tensor.get_shape().as_list()[1:]).prod()\n",
    "    W = tf.Variable(tf.random_normal([num_elements, num_outputs], mean=0.0, stddev=0.1))\n",
    "    bias = tf.Variable(tf.zeros([num_outputs], dtype=tf.float32))\n",
    "    out = tf.add(tf.matmul(x_tensor, W), bias)\n",
    "    return out\n",
    "\n",
    "\n",
    "\"\"\"\n",
    "DON'T MODIFY ANYTHING IN THIS CELL THAT IS BELOW THIS LINE\n",
    "\"\"\"\n",
    "tests.test_output(output)"
   ]
  },
  {
   "cell_type": "markdown",
   "metadata": {},
   "source": [
    "### Create Convolutional Model\n",
    "Implement the function `conv_net` to create a convolutional neural network model. The function takes in a batch of images, `x`, and outputs logits.  Use the layers you created above to create this model:\n",
    "\n",
    "* Apply 1, 2, or 3 Convolution and Max Pool layers\n",
    "* Apply a Flatten Layer\n",
    "* Apply 1, 2, or 3 Fully Connected Layers\n",
    "* Apply an Output Layer\n",
    "* Return the output\n",
    "* Apply [TensorFlow's Dropout](https://www.tensorflow.org/api_docs/python/tf/nn/dropout) to one or more layers in the model using `keep_prob`. "
   ]
  },
  {
   "cell_type": "code",
   "execution_count": 22,
   "metadata": {},
   "outputs": [
    {
     "name": "stdout",
     "output_type": "stream",
     "text": [
      "Neural Network Built!\n"
     ]
    }
   ],
   "source": [
    "def conv_net(x, keep_prob):\n",
    "    \"\"\"\n",
    "    Create a convolutional neural network model\n",
    "    : x: Placeholder tensor that holds image data.\n",
    "    : keep_prob: Placeholder tensor that hold dropout keep probability.\n",
    "    : return: Tensor that represents logits\n",
    "    \"\"\"\n",
    "    # TODO: Apply 1, 2, or 3 Convolution and Max Pool layers\n",
    "    #    Play around with different number of outputs, kernel size and stride\n",
    "    # Function Definition from Above:\n",
    "    #    conv2d_maxpool(x_tensor, conv_num_outputs, conv_ksize, conv_strides, pool_ksize, pool_strides)\n",
    "    x = conv2d_maxpool(x, 8, (8, 8), (1, 1), (2, 2), (2, 2))\n",
    "    x = conv2d_maxpool(x, 16, (4, 4), (1, 1), (2, 2), (2, 2))\n",
    "    x = conv2d_maxpool(x, 32, (2, 2), (1, 1), (2, 2), (2, 2))\n",
    "\n",
    "    # TODO: Apply a Flatten Layer\n",
    "    # Function Definition from Above:\n",
    "    #   flatten(x_tensor)\n",
    "    x = flatten(x)\n",
    "    \n",
    "\n",
    "    # TODO: Apply 1, 2, or 3 Fully Connected Layers\n",
    "    #    Play around with different number of outputs\n",
    "    # Function Definition from Above:\n",
    "    #   fully_conn(x_tensor, num_outputs)\n",
    "    x = fully_conn(x, 1024)\n",
    "    x = tf.nn.dropout(x, keep_prob=keep_prob)\n",
    "    x = fully_conn(x, 512)\n",
    "    x = tf.nn.dropout(x, keep_prob=keep_prob)\n",
    "    \n",
    "    \n",
    "    # TODO: Apply an Output Layer\n",
    "    #    Set this to the number of classes\n",
    "    # Function Definition from Above:\n",
    "    #   output(x_tensor, num_outputs)\n",
    "    x = output(x, 10)\n",
    "    \n",
    "    # TODO: return output\n",
    "    return x\n",
    "\n",
    "\n",
    "\"\"\"\n",
    "DON'T MODIFY ANYTHING IN THIS CELL THAT IS BELOW THIS LINE\n",
    "\"\"\"\n",
    "\n",
    "##############################\n",
    "## Build the Neural Network ##\n",
    "##############################\n",
    "\n",
    "# Remove previous weights, bias, inputs, etc..\n",
    "tf.reset_default_graph()\n",
    "\n",
    "# Inputs\n",
    "x = neural_net_image_input((32, 32, 3))\n",
    "y = neural_net_label_input(10)\n",
    "keep_prob = neural_net_keep_prob_input()\n",
    "\n",
    "# Model\n",
    "logits = conv_net(x, keep_prob)\n",
    "\n",
    "# Name logits Tensor, so that is can be loaded from disk after training\n",
    "logits = tf.identity(logits, name='logits')\n",
    "\n",
    "# Loss and Optimizer\n",
    "cost = tf.reduce_mean(tf.nn.softmax_cross_entropy_with_logits(logits=logits, labels=y))\n",
    "optimizer = tf.train.AdamOptimizer().minimize(cost)\n",
    "\n",
    "# Accuracy\n",
    "correct_pred = tf.equal(tf.argmax(logits, 1), tf.argmax(y, 1))\n",
    "accuracy = tf.reduce_mean(tf.cast(correct_pred, tf.float32), name='accuracy')\n",
    "\n",
    "tests.test_conv_net(conv_net)"
   ]
  },
  {
   "cell_type": "markdown",
   "metadata": {},
   "source": [
    "## Train the Neural Network\n",
    "### Single Optimization\n",
    "Implement the function `train_neural_network` to do a single optimization.  The optimization should use `optimizer` to optimize in `session` with a `feed_dict` of the following:\n",
    "* `x` for image input\n",
    "* `y` for labels\n",
    "* `keep_prob` for keep probability for dropout\n",
    "\n",
    "This function will be called for each batch, so `tf.global_variables_initializer()` has already been called.\n",
    "\n",
    "Note: Nothing needs to be returned. This function is only optimizing the neural network."
   ]
  },
  {
   "cell_type": "code",
   "execution_count": 23,
   "metadata": {},
   "outputs": [
    {
     "name": "stdout",
     "output_type": "stream",
     "text": [
      "Tests Passed\n"
     ]
    }
   ],
   "source": [
    "def train_neural_network(session, optimizer, keep_probability, feature_batch, label_batch):\n",
    "    \"\"\"\n",
    "    Optimize the session on a batch of images and labels\n",
    "    : session: Current TensorFlow session\n",
    "    : optimizer: TensorFlow optimizer function\n",
    "    : keep_probability: keep probability\n",
    "    : feature_batch: Batch of Numpy image data\n",
    "    : label_batch: Batch of Numpy label data\n",
    "    \"\"\"\n",
    "    # TODO: Implement Function\n",
    "    session.run(optimizer, feed_dict={x: feature_batch, y: label_batch, keep_prob: keep_probability})\n",
    "\n",
    "\n",
    "\"\"\"\n",
    "DON'T MODIFY ANYTHING IN THIS CELL THAT IS BELOW THIS LINE\n",
    "\"\"\"\n",
    "tests.test_train_nn(train_neural_network)"
   ]
  },
  {
   "cell_type": "markdown",
   "metadata": {},
   "source": [
    "### Show Stats\n",
    "Implement the function `print_stats` to print loss and validation accuracy.  Use the global variables `valid_features` and `valid_labels` to calculate validation accuracy.  Use a keep probability of `1.0` to calculate the loss and validation accuracy."
   ]
  },
  {
   "cell_type": "code",
   "execution_count": 24,
   "metadata": {
    "collapsed": true
   },
   "outputs": [],
   "source": [
    "def print_stats(session, feature_batch, label_batch, cost, accuracy):\n",
    "    \"\"\"\n",
    "    Print information about loss and validation accuracy\n",
    "    : session: Current TensorFlow session\n",
    "    : feature_batch: Batch of Numpy image data\n",
    "    : label_batch: Batch of Numpy label data\n",
    "    : cost: TensorFlow cost function\n",
    "    : accuracy: TensorFlow accuracy function\n",
    "    \"\"\"\n",
    "    # TODO: Implement Function\n",
    "    loss = session.run(cost, feed_dict={x: feature_batch, y: label_batch, keep_prob: 1.0})\n",
    "    acc = session.run(accuracy, feed_dict={x: valid_features, y: valid_labels, keep_prob: 1.0})\n",
    "    print('Loss={0} Accuracy={1}'.format(loss, acc))\n",
    "    "
   ]
  },
  {
   "cell_type": "markdown",
   "metadata": {},
   "source": [
    "### Hyperparameters\n",
    "Tune the following parameters:\n",
    "* Set `epochs` to the number of iterations until the network stops learning or start overfitting\n",
    "* Set `batch_size` to the highest number that your machine has memory for.  Most people set them to common sizes of memory:\n",
    " * 64\n",
    " * 128\n",
    " * 256\n",
    " * ...\n",
    "* Set `keep_probability` to the probability of keeping a node using dropout"
   ]
  },
  {
   "cell_type": "code",
   "execution_count": 27,
   "metadata": {
    "collapsed": true
   },
   "outputs": [],
   "source": [
    "# TODO: Tune Parameters\n",
    "epochs = 30\n",
    "batch_size = 1028\n",
    "keep_probability = 0.7"
   ]
  },
  {
   "cell_type": "markdown",
   "metadata": {},
   "source": [
    "### Train on a Single CIFAR-10 Batch\n",
    "Instead of training the neural network on all the CIFAR-10 batches of data, let's use a single batch. This should save time while you iterate on the model to get a better accuracy.  Once the final validation accuracy is 50% or greater, run the model on all the data in the next section."
   ]
  },
  {
   "cell_type": "code",
   "execution_count": 28,
   "metadata": {},
   "outputs": [
    {
     "name": "stdout",
     "output_type": "stream",
     "text": [
      "Checking the Training on a Single Batch...\n",
      "Epoch  1, CIFAR-10 Batch 1:  Loss=2.20733380317688 Accuracy=0.16820000112056732\n",
      "Epoch  2, CIFAR-10 Batch 1:  Loss=2.119131326675415 Accuracy=0.27480000257492065\n",
      "Epoch  3, CIFAR-10 Batch 1:  Loss=1.9969085454940796 Accuracy=0.2775999903678894\n",
      "Epoch  4, CIFAR-10 Batch 1:  Loss=1.8743842840194702 Accuracy=0.32839998602867126\n",
      "Epoch  5, CIFAR-10 Batch 1:  Loss=1.7506014108657837 Accuracy=0.37779998779296875\n",
      "Epoch  6, CIFAR-10 Batch 1:  Loss=1.6558723449707031 Accuracy=0.4023999869823456\n",
      "Epoch  7, CIFAR-10 Batch 1:  Loss=1.5699423551559448 Accuracy=0.41760000586509705\n",
      "Epoch  8, CIFAR-10 Batch 1:  Loss=1.5013389587402344 Accuracy=0.4277999997138977\n",
      "Epoch  9, CIFAR-10 Batch 1:  Loss=1.4341520071029663 Accuracy=0.44940000772476196\n",
      "Epoch 10, CIFAR-10 Batch 1:  Loss=1.3825860023498535 Accuracy=0.45899999141693115\n",
      "Epoch 11, CIFAR-10 Batch 1:  Loss=1.3289475440979004 Accuracy=0.45820000767707825\n",
      "Epoch 12, CIFAR-10 Batch 1:  Loss=1.2747050523757935 Accuracy=0.47440001368522644\n",
      "Epoch 13, CIFAR-10 Batch 1:  Loss=1.2178387641906738 Accuracy=0.47999998927116394\n",
      "Epoch 14, CIFAR-10 Batch 1:  Loss=1.1990987062454224 Accuracy=0.47540000081062317\n",
      "Epoch 15, CIFAR-10 Batch 1:  Loss=1.1488428115844727 Accuracy=0.4844000041484833\n",
      "Epoch 16, CIFAR-10 Batch 1:  Loss=1.0973974466323853 Accuracy=0.48919999599456787\n",
      "Epoch 17, CIFAR-10 Batch 1:  Loss=1.05755615234375 Accuracy=0.498199999332428\n",
      "Epoch 18, CIFAR-10 Batch 1:  Loss=1.0297152996063232 Accuracy=0.5034000277519226\n",
      "Epoch 19, CIFAR-10 Batch 1:  Loss=0.9885585308074951 Accuracy=0.5045999884605408\n",
      "Epoch 20, CIFAR-10 Batch 1:  Loss=0.9454988837242126 Accuracy=0.504800021648407\n",
      "Epoch 21, CIFAR-10 Batch 1:  Loss=0.8855265974998474 Accuracy=0.5105999708175659\n",
      "Epoch 22, CIFAR-10 Batch 1:  Loss=0.8592954277992249 Accuracy=0.5121999979019165\n",
      "Epoch 23, CIFAR-10 Batch 1:  Loss=0.8022668361663818 Accuracy=0.5139999985694885\n",
      "Epoch 24, CIFAR-10 Batch 1:  Loss=0.768147885799408 Accuracy=0.5123999714851379\n",
      "Epoch 25, CIFAR-10 Batch 1:  Loss=0.7437678575515747 Accuracy=0.5112000107765198\n",
      "Epoch 26, CIFAR-10 Batch 1:  Loss=0.707963764667511 Accuracy=0.5175999999046326\n",
      "Epoch 27, CIFAR-10 Batch 1:  Loss=0.6761831641197205 Accuracy=0.5188000202178955\n",
      "Epoch 28, CIFAR-10 Batch 1:  Loss=0.6306983828544617 Accuracy=0.5166000127792358\n",
      "Epoch 29, CIFAR-10 Batch 1:  Loss=0.5861990451812744 Accuracy=0.5242000222206116\n",
      "Epoch 30, CIFAR-10 Batch 1:  Loss=0.5504550933837891 Accuracy=0.5264000296592712\n"
     ]
    }
   ],
   "source": [
    "\"\"\"\n",
    "DON'T MODIFY ANYTHING IN THIS CELL\n",
    "\"\"\"\n",
    "print('Checking the Training on a Single Batch...')\n",
    "with tf.Session() as sess:\n",
    "    # Initializing the variables\n",
    "    sess.run(tf.global_variables_initializer())\n",
    "    \n",
    "    # Training cycle\n",
    "    for epoch in range(epochs):\n",
    "        batch_i = 1\n",
    "        for batch_features, batch_labels in helper.load_preprocess_training_batch(batch_i, batch_size):\n",
    "            train_neural_network(sess, optimizer, keep_probability, batch_features, batch_labels)\n",
    "        print('Epoch {:>2}, CIFAR-10 Batch {}:  '.format(epoch + 1, batch_i), end='')\n",
    "        print_stats(sess, batch_features, batch_labels, cost, accuracy)"
   ]
  },
  {
   "cell_type": "markdown",
   "metadata": {},
   "source": [
    "### Fully Train the Model\n",
    "Now that you got a good accuracy with a single CIFAR-10 batch, try it with all five batches."
   ]
  },
  {
   "cell_type": "code",
   "execution_count": 29,
   "metadata": {},
   "outputs": [
    {
     "name": "stdout",
     "output_type": "stream",
     "text": [
      "Training...\n",
      "Epoch  1, CIFAR-10 Batch 1:  Loss=2.4136769771575928 Accuracy=0.20340000092983246\n",
      "Epoch  1, CIFAR-10 Batch 2:  Loss=2.2531116008758545 Accuracy=0.14239999651908875\n",
      "Epoch  1, CIFAR-10 Batch 3:  Loss=2.2158074378967285 Accuracy=0.2223999947309494\n",
      "Epoch  1, CIFAR-10 Batch 4:  Loss=2.1375699043273926 Accuracy=0.2502000033855438\n",
      "Epoch  1, CIFAR-10 Batch 5:  Loss=1.9991225004196167 Accuracy=0.28459998965263367\n",
      "Epoch  2, CIFAR-10 Batch 1:  Loss=1.8958768844604492 Accuracy=0.3285999894142151\n",
      "Epoch  2, CIFAR-10 Batch 2:  Loss=1.8145933151245117 Accuracy=0.3562000095844269\n",
      "Epoch  2, CIFAR-10 Batch 3:  Loss=1.7019901275634766 Accuracy=0.3734000027179718\n",
      "Epoch  2, CIFAR-10 Batch 4:  Loss=1.6549323797225952 Accuracy=0.3837999999523163\n",
      "Epoch  2, CIFAR-10 Batch 5:  Loss=1.6696685552597046 Accuracy=0.4000000059604645\n",
      "Epoch  3, CIFAR-10 Batch 1:  Loss=1.624293327331543 Accuracy=0.4228000044822693\n",
      "Epoch  3, CIFAR-10 Batch 2:  Loss=1.5814400911331177 Accuracy=0.430400013923645\n",
      "Epoch  3, CIFAR-10 Batch 3:  Loss=1.5215425491333008 Accuracy=0.4212000072002411\n",
      "Epoch  3, CIFAR-10 Batch 4:  Loss=1.5078829526901245 Accuracy=0.4426000118255615\n",
      "Epoch  3, CIFAR-10 Batch 5:  Loss=1.5167502164840698 Accuracy=0.4480000138282776\n",
      "Epoch  4, CIFAR-10 Batch 1:  Loss=1.491687297821045 Accuracy=0.4596000015735626\n",
      "Epoch  4, CIFAR-10 Batch 2:  Loss=1.4936922788619995 Accuracy=0.46720001101493835\n",
      "Epoch  4, CIFAR-10 Batch 3:  Loss=1.4225081205368042 Accuracy=0.46000000834465027\n",
      "Epoch  4, CIFAR-10 Batch 4:  Loss=1.4122166633605957 Accuracy=0.48100000619888306\n",
      "Epoch  4, CIFAR-10 Batch 5:  Loss=1.4135433435440063 Accuracy=0.4812000095844269\n",
      "Epoch  5, CIFAR-10 Batch 1:  Loss=1.4024220705032349 Accuracy=0.48179998993873596\n",
      "Epoch  5, CIFAR-10 Batch 2:  Loss=1.4222358465194702 Accuracy=0.49079999327659607\n",
      "Epoch  5, CIFAR-10 Batch 3:  Loss=1.3493326902389526 Accuracy=0.47999998927116394\n",
      "Epoch  5, CIFAR-10 Batch 4:  Loss=1.32920503616333 Accuracy=0.5013999938964844\n",
      "Epoch  5, CIFAR-10 Batch 5:  Loss=1.3233411312103271 Accuracy=0.5044000148773193\n",
      "Epoch  6, CIFAR-10 Batch 1:  Loss=1.3310813903808594 Accuracy=0.5040000081062317\n",
      "Epoch  6, CIFAR-10 Batch 2:  Loss=1.3557902574539185 Accuracy=0.5095999836921692\n",
      "Epoch  6, CIFAR-10 Batch 3:  Loss=1.2878353595733643 Accuracy=0.5\n",
      "Epoch  6, CIFAR-10 Batch 4:  Loss=1.2594670057296753 Accuracy=0.5127999782562256\n",
      "Epoch  6, CIFAR-10 Batch 5:  Loss=1.2532861232757568 Accuracy=0.5156000256538391\n",
      "Epoch  7, CIFAR-10 Batch 1:  Loss=1.2821675539016724 Accuracy=0.5162000060081482\n",
      "Epoch  7, CIFAR-10 Batch 2:  Loss=1.3145371675491333 Accuracy=0.5189999938011169\n",
      "Epoch  7, CIFAR-10 Batch 3:  Loss=1.2408862113952637 Accuracy=0.5148000121116638\n",
      "Epoch  7, CIFAR-10 Batch 4:  Loss=1.22734534740448 Accuracy=0.5166000127792358\n",
      "Epoch  7, CIFAR-10 Batch 5:  Loss=1.2050162553787231 Accuracy=0.5242000222206116\n",
      "Epoch  8, CIFAR-10 Batch 1:  Loss=1.2428988218307495 Accuracy=0.5220000147819519\n",
      "Epoch  8, CIFAR-10 Batch 2:  Loss=1.2619894742965698 Accuracy=0.5317999720573425\n",
      "Epoch  8, CIFAR-10 Batch 3:  Loss=1.1776419878005981 Accuracy=0.5370000004768372\n",
      "Epoch  8, CIFAR-10 Batch 4:  Loss=1.1779675483703613 Accuracy=0.5320000052452087\n",
      "Epoch  8, CIFAR-10 Batch 5:  Loss=1.1346547603607178 Accuracy=0.5392000079154968\n",
      "Epoch  9, CIFAR-10 Batch 1:  Loss=1.1772942543029785 Accuracy=0.5400000214576721\n",
      "Epoch  9, CIFAR-10 Batch 2:  Loss=1.2100106477737427 Accuracy=0.54339998960495\n",
      "Epoch  9, CIFAR-10 Batch 3:  Loss=1.1410080194473267 Accuracy=0.5425999760627747\n",
      "Epoch  9, CIFAR-10 Batch 4:  Loss=1.1212676763534546 Accuracy=0.5425999760627747\n",
      "Epoch  9, CIFAR-10 Batch 5:  Loss=1.0894534587860107 Accuracy=0.5511999726295471\n",
      "Epoch 10, CIFAR-10 Batch 1:  Loss=1.1324461698532104 Accuracy=0.5540000200271606\n",
      "Epoch 10, CIFAR-10 Batch 2:  Loss=1.1634491682052612 Accuracy=0.5468000173568726\n",
      "Epoch 10, CIFAR-10 Batch 3:  Loss=1.1047037839889526 Accuracy=0.546999990940094\n",
      "Epoch 10, CIFAR-10 Batch 4:  Loss=1.0803419351577759 Accuracy=0.5523999929428101\n",
      "Epoch 10, CIFAR-10 Batch 5:  Loss=1.0478339195251465 Accuracy=0.5550000071525574\n",
      "Epoch 11, CIFAR-10 Batch 1:  Loss=1.0947349071502686 Accuracy=0.5564000010490417\n",
      "Epoch 11, CIFAR-10 Batch 2:  Loss=1.1356446743011475 Accuracy=0.5562000274658203\n",
      "Epoch 11, CIFAR-10 Batch 3:  Loss=1.0666162967681885 Accuracy=0.5626000165939331\n",
      "Epoch 11, CIFAR-10 Batch 4:  Loss=1.0386894941329956 Accuracy=0.5587999820709229\n",
      "Epoch 11, CIFAR-10 Batch 5:  Loss=1.0000370740890503 Accuracy=0.5633999705314636\n",
      "Epoch 12, CIFAR-10 Batch 1:  Loss=1.0602319240570068 Accuracy=0.5655999779701233\n",
      "Epoch 12, CIFAR-10 Batch 2:  Loss=1.076454758644104 Accuracy=0.5640000104904175\n",
      "Epoch 12, CIFAR-10 Batch 3:  Loss=1.028559923171997 Accuracy=0.5623999834060669\n",
      "Epoch 12, CIFAR-10 Batch 4:  Loss=1.0253989696502686 Accuracy=0.5598000288009644\n",
      "Epoch 12, CIFAR-10 Batch 5:  Loss=0.9615665078163147 Accuracy=0.5694000124931335\n",
      "Epoch 13, CIFAR-10 Batch 1:  Loss=1.0092206001281738 Accuracy=0.5756000280380249\n",
      "Epoch 13, CIFAR-10 Batch 2:  Loss=1.0280011892318726 Accuracy=0.5794000029563904\n",
      "Epoch 13, CIFAR-10 Batch 3:  Loss=0.9752466082572937 Accuracy=0.5785999894142151\n",
      "Epoch 13, CIFAR-10 Batch 4:  Loss=0.969230592250824 Accuracy=0.5681999921798706\n",
      "Epoch 13, CIFAR-10 Batch 5:  Loss=0.9105728268623352 Accuracy=0.5735999941825867\n",
      "Epoch 14, CIFAR-10 Batch 1:  Loss=0.9657613039016724 Accuracy=0.5885999798774719\n",
      "Epoch 14, CIFAR-10 Batch 2:  Loss=0.9854239225387573 Accuracy=0.5825999975204468\n",
      "Epoch 14, CIFAR-10 Batch 3:  Loss=0.9302254319190979 Accuracy=0.5848000049591064\n",
      "Epoch 14, CIFAR-10 Batch 4:  Loss=0.9214069843292236 Accuracy=0.5849999785423279\n",
      "Epoch 14, CIFAR-10 Batch 5:  Loss=0.8725261688232422 Accuracy=0.5799999833106995\n",
      "Epoch 15, CIFAR-10 Batch 1:  Loss=0.9356170296669006 Accuracy=0.5879999995231628\n",
      "Epoch 15, CIFAR-10 Batch 2:  Loss=0.9516753554344177 Accuracy=0.5879999995231628\n",
      "Epoch 15, CIFAR-10 Batch 3:  Loss=0.9001509547233582 Accuracy=0.5838000178337097\n",
      "Epoch 15, CIFAR-10 Batch 4:  Loss=0.8924732804298401 Accuracy=0.5861999988555908\n",
      "Epoch 15, CIFAR-10 Batch 5:  Loss=0.8460284471511841 Accuracy=0.5806000232696533\n",
      "Epoch 16, CIFAR-10 Batch 1:  Loss=0.8788061738014221 Accuracy=0.5917999744415283\n",
      "Epoch 16, CIFAR-10 Batch 2:  Loss=0.9069265723228455 Accuracy=0.590399980545044\n",
      "Epoch 16, CIFAR-10 Batch 3:  Loss=0.8484739065170288 Accuracy=0.5947999954223633\n",
      "Epoch 16, CIFAR-10 Batch 4:  Loss=0.8403453826904297 Accuracy=0.5924000144004822\n",
      "Epoch 16, CIFAR-10 Batch 5:  Loss=0.7941535115242004 Accuracy=0.5870000123977661\n",
      "Epoch 17, CIFAR-10 Batch 1:  Loss=0.8496937155723572 Accuracy=0.5892000198364258\n",
      "Epoch 17, CIFAR-10 Batch 2:  Loss=0.8759524822235107 Accuracy=0.5920000076293945\n",
      "Epoch 17, CIFAR-10 Batch 3:  Loss=0.8165766000747681 Accuracy=0.5985999703407288\n",
      "Epoch 17, CIFAR-10 Batch 4:  Loss=0.8107026219367981 Accuracy=0.5935999751091003\n",
      "Epoch 17, CIFAR-10 Batch 5:  Loss=0.7553885579109192 Accuracy=0.5861999988555908\n",
      "Epoch 18, CIFAR-10 Batch 1:  Loss=0.8083850741386414 Accuracy=0.593999981880188\n",
      "Epoch 18, CIFAR-10 Batch 2:  Loss=0.8631513118743896 Accuracy=0.5878000259399414\n",
      "Epoch 18, CIFAR-10 Batch 3:  Loss=0.7975075244903564 Accuracy=0.5911999940872192\n",
      "Epoch 18, CIFAR-10 Batch 4:  Loss=0.7793481349945068 Accuracy=0.5925999879837036\n",
      "Epoch 18, CIFAR-10 Batch 5:  Loss=0.7268403768539429 Accuracy=0.5964000225067139\n",
      "Epoch 19, CIFAR-10 Batch 1:  Loss=0.7740143537521362 Accuracy=0.5983999967575073\n",
      "Epoch 19, CIFAR-10 Batch 2:  Loss=0.8129614591598511 Accuracy=0.5902000069618225\n",
      "Epoch 19, CIFAR-10 Batch 3:  Loss=0.7513040900230408 Accuracy=0.5996000170707703\n",
      "Epoch 19, CIFAR-10 Batch 4:  Loss=0.7449828386306763 Accuracy=0.5965999960899353\n",
      "Epoch 19, CIFAR-10 Batch 5:  Loss=0.693338930606842 Accuracy=0.6001999974250793\n",
      "Epoch 20, CIFAR-10 Batch 1:  Loss=0.7396078109741211 Accuracy=0.5992000102996826\n",
      "Epoch 20, CIFAR-10 Batch 2:  Loss=0.7833611369132996 Accuracy=0.5947999954223633\n",
      "Epoch 20, CIFAR-10 Batch 3:  Loss=0.729168713092804 Accuracy=0.5982000231742859\n",
      "Epoch 20, CIFAR-10 Batch 4:  Loss=0.7130786180496216 Accuracy=0.605400025844574\n",
      "Epoch 20, CIFAR-10 Batch 5:  Loss=0.6744785904884338 Accuracy=0.5974000096321106\n",
      "Epoch 21, CIFAR-10 Batch 1:  Loss=0.7149144411087036 Accuracy=0.5968000292778015\n"
     ]
    },
    {
     "name": "stdout",
     "output_type": "stream",
     "text": [
      "Epoch 21, CIFAR-10 Batch 2:  Loss=0.7463436126708984 Accuracy=0.5985999703407288\n",
      "Epoch 21, CIFAR-10 Batch 3:  Loss=0.6834526658058167 Accuracy=0.6037999987602234\n",
      "Epoch 21, CIFAR-10 Batch 4:  Loss=0.6596564650535583 Accuracy=0.6015999913215637\n",
      "Epoch 21, CIFAR-10 Batch 5:  Loss=0.6445098519325256 Accuracy=0.6000000238418579\n",
      "Epoch 22, CIFAR-10 Batch 1:  Loss=0.6829908490180969 Accuracy=0.602400004863739\n",
      "Epoch 22, CIFAR-10 Batch 2:  Loss=0.7208250164985657 Accuracy=0.5935999751091003\n",
      "Epoch 22, CIFAR-10 Batch 3:  Loss=0.6478386521339417 Accuracy=0.607200026512146\n",
      "Epoch 22, CIFAR-10 Batch 4:  Loss=0.6579875946044922 Accuracy=0.599399983882904\n",
      "Epoch 22, CIFAR-10 Batch 5:  Loss=0.6165731549263 Accuracy=0.603600025177002\n",
      "Epoch 23, CIFAR-10 Batch 1:  Loss=0.662344217300415 Accuracy=0.6003999710083008\n",
      "Epoch 23, CIFAR-10 Batch 2:  Loss=0.7007562518119812 Accuracy=0.5997999906539917\n",
      "Epoch 23, CIFAR-10 Batch 3:  Loss=0.6345230937004089 Accuracy=0.6051999926567078\n",
      "Epoch 23, CIFAR-10 Batch 4:  Loss=0.6470593810081482 Accuracy=0.6000000238418579\n",
      "Epoch 23, CIFAR-10 Batch 5:  Loss=0.5792533755302429 Accuracy=0.5965999960899353\n",
      "Epoch 24, CIFAR-10 Batch 1:  Loss=0.6231997609138489 Accuracy=0.6019999980926514\n",
      "Epoch 24, CIFAR-10 Batch 2:  Loss=0.6542030572891235 Accuracy=0.603600025177002\n",
      "Epoch 24, CIFAR-10 Batch 3:  Loss=0.6231447458267212 Accuracy=0.5875999927520752\n",
      "Epoch 24, CIFAR-10 Batch 4:  Loss=0.6357603073120117 Accuracy=0.5971999764442444\n",
      "Epoch 24, CIFAR-10 Batch 5:  Loss=0.5952417254447937 Accuracy=0.5943999886512756\n",
      "Epoch 25, CIFAR-10 Batch 1:  Loss=0.6032705903053284 Accuracy=0.6039999723434448\n",
      "Epoch 25, CIFAR-10 Batch 2:  Loss=0.6257259249687195 Accuracy=0.605400025844574\n",
      "Epoch 25, CIFAR-10 Batch 3:  Loss=0.5903980731964111 Accuracy=0.5879999995231628\n",
      "Epoch 25, CIFAR-10 Batch 4:  Loss=0.5813453793525696 Accuracy=0.6082000136375427\n",
      "Epoch 25, CIFAR-10 Batch 5:  Loss=0.5615571737289429 Accuracy=0.602400004863739\n",
      "Epoch 26, CIFAR-10 Batch 1:  Loss=0.5723912715911865 Accuracy=0.609000027179718\n",
      "Epoch 26, CIFAR-10 Batch 2:  Loss=0.5838440656661987 Accuracy=0.603600025177002\n",
      "Epoch 26, CIFAR-10 Batch 3:  Loss=0.5528323650360107 Accuracy=0.5997999906539917\n",
      "Epoch 26, CIFAR-10 Batch 4:  Loss=0.5559811592102051 Accuracy=0.6082000136375427\n",
      "Epoch 26, CIFAR-10 Batch 5:  Loss=0.5064825415611267 Accuracy=0.6092000007629395\n",
      "Epoch 27, CIFAR-10 Batch 1:  Loss=0.5320261120796204 Accuracy=0.6105999946594238\n",
      "Epoch 27, CIFAR-10 Batch 2:  Loss=0.5476647615432739 Accuracy=0.6078000068664551\n",
      "Epoch 27, CIFAR-10 Batch 3:  Loss=0.5362725257873535 Accuracy=0.6032000184059143\n",
      "Epoch 27, CIFAR-10 Batch 4:  Loss=0.5336633920669556 Accuracy=0.6055999994277954\n",
      "Epoch 27, CIFAR-10 Batch 5:  Loss=0.49317967891693115 Accuracy=0.6086000204086304\n",
      "Epoch 28, CIFAR-10 Batch 1:  Loss=0.5076014995574951 Accuracy=0.6060000061988831\n",
      "Epoch 28, CIFAR-10 Batch 2:  Loss=0.5472880005836487 Accuracy=0.6115999817848206\n",
      "Epoch 28, CIFAR-10 Batch 3:  Loss=0.5065889358520508 Accuracy=0.6179999709129333\n",
      "Epoch 28, CIFAR-10 Batch 4:  Loss=0.5518122315406799 Accuracy=0.5878000259399414\n",
      "Epoch 28, CIFAR-10 Batch 5:  Loss=0.5244730710983276 Accuracy=0.5766000151634216\n",
      "Epoch 29, CIFAR-10 Batch 1:  Loss=0.5260607004165649 Accuracy=0.592199981212616\n",
      "Epoch 29, CIFAR-10 Batch 2:  Loss=0.5311095118522644 Accuracy=0.6046000123023987\n",
      "Epoch 29, CIFAR-10 Batch 3:  Loss=0.4951329827308655 Accuracy=0.6101999878883362\n",
      "Epoch 29, CIFAR-10 Batch 4:  Loss=0.493784636259079 Accuracy=0.6001999974250793\n",
      "Epoch 29, CIFAR-10 Batch 5:  Loss=0.4852706789970398 Accuracy=0.5898000001907349\n",
      "Epoch 30, CIFAR-10 Batch 1:  Loss=0.4867984354496002 Accuracy=0.6018000245094299\n",
      "Epoch 30, CIFAR-10 Batch 2:  Loss=0.47502878308296204 Accuracy=0.6111999750137329\n",
      "Epoch 30, CIFAR-10 Batch 3:  Loss=0.49586376547813416 Accuracy=0.6060000061988831\n",
      "Epoch 30, CIFAR-10 Batch 4:  Loss=0.47790634632110596 Accuracy=0.5989999771118164\n",
      "Epoch 30, CIFAR-10 Batch 5:  Loss=0.4512971043586731 Accuracy=0.5942000150680542\n"
     ]
    }
   ],
   "source": [
    "\"\"\"\n",
    "DON'T MODIFY ANYTHING IN THIS CELL\n",
    "\"\"\"\n",
    "save_model_path = './image_classification'\n",
    "\n",
    "print('Training...')\n",
    "with tf.Session() as sess:\n",
    "    # Initializing the variables\n",
    "    sess.run(tf.global_variables_initializer())\n",
    "    \n",
    "    # Training cycle\n",
    "    for epoch in range(epochs):\n",
    "        # Loop over all batches\n",
    "        n_batches = 5\n",
    "        for batch_i in range(1, n_batches + 1):\n",
    "            for batch_features, batch_labels in helper.load_preprocess_training_batch(batch_i, batch_size):\n",
    "                train_neural_network(sess, optimizer, keep_probability, batch_features, batch_labels)\n",
    "            print('Epoch {:>2}, CIFAR-10 Batch {}:  '.format(epoch + 1, batch_i), end='')\n",
    "            print_stats(sess, batch_features, batch_labels, cost, accuracy)\n",
    "            \n",
    "    # Save Model\n",
    "    saver = tf.train.Saver()\n",
    "    save_path = saver.save(sess, save_model_path)"
   ]
  },
  {
   "cell_type": "markdown",
   "metadata": {},
   "source": [
    "# Checkpoint\n",
    "The model has been saved to disk.\n",
    "## Test Model\n",
    "Test your model against the test dataset.  This will be your final accuracy. You should have an accuracy greater than 50%. If you don't, keep tweaking the model architecture and parameters."
   ]
  },
  {
   "cell_type": "code",
   "execution_count": 30,
   "metadata": {},
   "outputs": [
    {
     "name": "stdout",
     "output_type": "stream",
     "text": [
      "INFO:tensorflow:Restoring parameters from ./image_classification\n",
      "Testing Accuracy: 0.5952776730060577\n",
      "\n"
     ]
    },
    {
     "data": {
      "image/png": "[encoded data removed]",
      "text/plain": [
       "<matplotlib.figure.Figure at 0x1217d85f8>"
      ]
     },
     "metadata": {
      "image/png": {
       "height": 319,
       "width": 355
      }
     },
     "output_type": "display_data"
    }
   ],
   "source": [
    "\"\"\"\n",
    "DON'T MODIFY ANYTHING IN THIS CELL\n",
    "\"\"\"\n",
    "%matplotlib inline\n",
    "%config InlineBackend.figure_format = 'retina'\n",
    "\n",
    "import tensorflow as tf\n",
    "import pickle\n",
    "import helper\n",
    "import random\n",
    "\n",
    "# Set batch size if not already set\n",
    "try:\n",
    "    if batch_size:\n",
    "        pass\n",
    "except NameError:\n",
    "    batch_size = 64\n",
    "\n",
    "save_model_path = './image_classification'\n",
    "n_samples = 4\n",
    "top_n_predictions = 3\n",
    "\n",
    "def test_model():\n",
    "    \"\"\"\n",
    "    Test the saved model against the test dataset\n",
    "    \"\"\"\n",
    "\n",
    "    test_features, test_labels = pickle.load(open('preprocess_training.p', mode='rb'))\n",
    "    loaded_graph = tf.Graph()\n",
    "\n",
    "    with tf.Session(graph=loaded_graph) as sess:\n",
    "        # Load model\n",
    "        loader = tf.train.import_meta_graph(save_model_path + '.meta')\n",
    "        loader.restore(sess, save_model_path)\n",
    "\n",
    "        # Get Tensors from loaded model\n",
    "        loaded_x = loaded_graph.get_tensor_by_name('x:0')\n",
    "        loaded_y = loaded_graph.get_tensor_by_name('y:0')\n",
    "        loaded_keep_prob = loaded_graph.get_tensor_by_name('keep_prob:0')\n",
    "        loaded_logits = loaded_graph.get_tensor_by_name('logits:0')\n",
    "        loaded_acc = loaded_graph.get_tensor_by_name('accuracy:0')\n",
    "        \n",
    "        # Get accuracy in batches for memory limitations\n",
    "        test_batch_acc_total = 0\n",
    "        test_batch_count = 0\n",
    "        \n",
    "        for train_feature_batch, train_label_batch in helper.batch_features_labels(test_features, test_labels, batch_size):\n",
    "            test_batch_acc_total += sess.run(\n",
    "                loaded_acc,\n",
    "                feed_dict={loaded_x: train_feature_batch, loaded_y: train_label_batch, loaded_keep_prob: 1.0})\n",
    "            test_batch_count += 1\n",
    "\n",
    "        print('Testing Accuracy: {}\\n'.format(test_batch_acc_total/test_batch_count))\n",
    "\n",
    "        # Print Random Samples\n",
    "        random_test_features, random_test_labels = tuple(zip(*random.sample(list(zip(test_features, test_labels)), n_samples)))\n",
    "        random_test_predictions = sess.run(\n",
    "            tf.nn.top_k(tf.nn.softmax(loaded_logits), top_n_predictions),\n",
    "            feed_dict={loaded_x: random_test_features, loaded_y: random_test_labels, loaded_keep_prob: 1.0})\n",
    "        helper.display_image_predictions(random_test_features, random_test_labels, random_test_predictions)\n",
    "\n",
    "\n",
    "test_model()"
   ]
  },
  {
   "cell_type": "markdown",
   "metadata": {},
   "source": [
    "## Why 50-80% Accuracy?\n",
    "You might be wondering why you can't get an accuracy any higher. First things first, 50% isn't bad for a simple CNN.  Pure guessing would get you 10% accuracy. That's because there are many more techniques that can be applied to your model and we recemmond that once you are done with this project, you explore!\n",
    "\n",
    "## Submitting This Project\n",
    "When submitting this project, make sure to run all the cells before saving the notebook.  Save the notebook file as \"image_classification.ipynb\" and save it as a HTML file under \"File\" -> \"Download as\".  Include the \"helper.py\" and \"problem_unittests.py\" files in your submission."
   ]
  }
 ],
 "metadata": {
  "kernelspec": {
   "display_name": "Python 3",
   "language": "python",
   "name": "python3"
  },
  "language_info": {
   "codemirror_mode": {
    "name": "ipython",
    "version": 3
   },
   "file_extension": ".py",
   "mimetype": "text/x-python",
   "name": "python",
   "nbconvert_exporter": "python",
   "pygments_lexer": "ipython3",
   "version": "3.6.1"
  }
 },
 "nbformat": 4,
 "nbformat_minor": 1
}
